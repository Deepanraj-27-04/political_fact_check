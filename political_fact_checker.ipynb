{
 "cells": [
  {
   "cell_type": "code",
   "execution_count": 1,
   "id": "2fc7d5d6",
   "metadata": {},
   "outputs": [],
   "source": [
    "%matplotlib inline\n",
    "import re\n",
    "import matplotlib\n",
    "import numpy as np\n",
    "import matplotlib.pyplot as plt\n",
    "import pandas as pd\n",
    "from sklearn.model_selection import train_test_split\n",
    "from sklearn.feature_extraction.text import TfidfVectorizer\n",
    "from sklearn.naive_bayes import MultinomialNB \n",
    "from sklearn.metrics import accuracy_score\n",
    "from sklearn.multiclass import OneVsRestClassifier\n",
    "from nltk.corpus import stopwords\n",
    "stop_words = set(stopwords.words('english'))\n",
    "from sklearn.svm import LinearSVC\n",
    "from sklearn.linear_model import LogisticRegression\n",
    "from sklearn.pipeline import Pipeline\n",
    "import seaborn as sns"
   ]
  },
  {
   "cell_type": "code",
   "execution_count": 2,
   "id": "f9a90b62",
   "metadata": {},
   "outputs": [],
   "source": [
    "df = pd.read_json(\"politifact_factcheck_data.json\", lines=True)"
   ]
  },
  {
   "cell_type": "code",
   "execution_count": 3,
   "id": "004e20af",
   "metadata": {
    "scrolled": true
   },
   "outputs": [
    {
     "data": {
      "text/html": [
       "<div>\n",
       "<style scoped>\n",
       "    .dataframe tbody tr th:only-of-type {\n",
       "        vertical-align: middle;\n",
       "    }\n",
       "\n",
       "    .dataframe tbody tr th {\n",
       "        vertical-align: top;\n",
       "    }\n",
       "\n",
       "    .dataframe thead th {\n",
       "        text-align: right;\n",
       "    }\n",
       "</style>\n",
       "<table border=\"1\" class=\"dataframe\">\n",
       "  <thead>\n",
       "    <tr style=\"text-align: right;\">\n",
       "      <th></th>\n",
       "      <th>verdict</th>\n",
       "      <th>statement_originator</th>\n",
       "      <th>statement</th>\n",
       "      <th>statement_date</th>\n",
       "      <th>statement_source</th>\n",
       "      <th>factchecker</th>\n",
       "      <th>factcheck_date</th>\n",
       "      <th>factcheck_analysis_link</th>\n",
       "    </tr>\n",
       "  </thead>\n",
       "  <tbody>\n",
       "    <tr>\n",
       "      <th>0</th>\n",
       "      <td>true</td>\n",
       "      <td>Barack Obama</td>\n",
       "      <td>John McCain opposed bankruptcy protections for...</td>\n",
       "      <td>6/11/2008</td>\n",
       "      <td>speech</td>\n",
       "      <td>Adriel Bettelheim</td>\n",
       "      <td>6/16/2008</td>\n",
       "      <td>https://www.politifact.com/factchecks/2008/jun...</td>\n",
       "    </tr>\n",
       "    <tr>\n",
       "      <th>1</th>\n",
       "      <td>false</td>\n",
       "      <td>Matt Gaetz</td>\n",
       "      <td>\"Bennie Thompson actively cheer-led riots in t...</td>\n",
       "      <td>6/7/2022</td>\n",
       "      <td>television</td>\n",
       "      <td>Yacob Reyes</td>\n",
       "      <td>6/13/2022</td>\n",
       "      <td>https://www.politifact.com/factchecks/2022/jun...</td>\n",
       "    </tr>\n",
       "    <tr>\n",
       "      <th>2</th>\n",
       "      <td>mostly-true</td>\n",
       "      <td>Kelly Ayotte</td>\n",
       "      <td>Says Maggie Hassan was \"out of state on 30 day...</td>\n",
       "      <td>5/18/2016</td>\n",
       "      <td>news</td>\n",
       "      <td>Clay Wirestone</td>\n",
       "      <td>5/27/2016</td>\n",
       "      <td>https://www.politifact.com/factchecks/2016/may...</td>\n",
       "    </tr>\n",
       "    <tr>\n",
       "      <th>3</th>\n",
       "      <td>false</td>\n",
       "      <td>Bloggers</td>\n",
       "      <td>\"BUSTED: CDC Inflated COVID Numbers, Accused o...</td>\n",
       "      <td>2/1/2021</td>\n",
       "      <td>blog</td>\n",
       "      <td>Madison Czopek</td>\n",
       "      <td>2/5/2021</td>\n",
       "      <td>https://www.politifact.com/factchecks/2021/feb...</td>\n",
       "    </tr>\n",
       "    <tr>\n",
       "      <th>4</th>\n",
       "      <td>half-true</td>\n",
       "      <td>Bobby Jindal</td>\n",
       "      <td>\"I'm the only (Republican) candidate that has ...</td>\n",
       "      <td>8/30/2015</td>\n",
       "      <td>television</td>\n",
       "      <td>Linda Qiu</td>\n",
       "      <td>8/30/2015</td>\n",
       "      <td>https://www.politifact.com/factchecks/2015/aug...</td>\n",
       "    </tr>\n",
       "    <tr>\n",
       "      <th>...</th>\n",
       "      <td>...</td>\n",
       "      <td>...</td>\n",
       "      <td>...</td>\n",
       "      <td>...</td>\n",
       "      <td>...</td>\n",
       "      <td>...</td>\n",
       "      <td>...</td>\n",
       "      <td>...</td>\n",
       "    </tr>\n",
       "    <tr>\n",
       "      <th>21147</th>\n",
       "      <td>mostly-false</td>\n",
       "      <td>Donald Trump</td>\n",
       "      <td>Says the large trade deficit with Japan stems ...</td>\n",
       "      <td>8/13/2019</td>\n",
       "      <td>speech</td>\n",
       "      <td>Jon Greenberg</td>\n",
       "      <td>8/15/2019</td>\n",
       "      <td>https://www.politifact.com/factchecks/2019/aug...</td>\n",
       "    </tr>\n",
       "    <tr>\n",
       "      <th>21148</th>\n",
       "      <td>false</td>\n",
       "      <td>Donald Trump Jr.</td>\n",
       "      <td>\"Tens of thousands\" of people leave New York e...</td>\n",
       "      <td>11/1/2019</td>\n",
       "      <td>social_media</td>\n",
       "      <td>Jill Terreri Ramos</td>\n",
       "      <td>11/8/2019</td>\n",
       "      <td>https://www.politifact.com/factchecks/2019/nov...</td>\n",
       "    </tr>\n",
       "    <tr>\n",
       "      <th>21149</th>\n",
       "      <td>mostly-false</td>\n",
       "      <td>Chris Abele</td>\n",
       "      <td>\"I have fought for our shared values without b...</td>\n",
       "      <td>1/4/2011</td>\n",
       "      <td>news</td>\n",
       "      <td>Dave Umhoefer</td>\n",
       "      <td>1/13/2011</td>\n",
       "      <td>https://www.politifact.com/factchecks/2011/jan...</td>\n",
       "    </tr>\n",
       "    <tr>\n",
       "      <th>21150</th>\n",
       "      <td>false</td>\n",
       "      <td>Bloggers</td>\n",
       "      <td>\"Germany halts all Covid-19 vaccines, says the...</td>\n",
       "      <td>8/27/2021</td>\n",
       "      <td>blog</td>\n",
       "      <td>Ciara O'Rourke</td>\n",
       "      <td>9/9/2021</td>\n",
       "      <td>https://www.politifact.com/factchecks/2021/sep...</td>\n",
       "    </tr>\n",
       "    <tr>\n",
       "      <th>21151</th>\n",
       "      <td>mostly-false</td>\n",
       "      <td>Facebook posts</td>\n",
       "      <td>Says for otherwise healthy people \"experiencin...</td>\n",
       "      <td>3/28/2020</td>\n",
       "      <td>social_media</td>\n",
       "      <td>Tom Kertscher</td>\n",
       "      <td>4/3/2020</td>\n",
       "      <td>https://www.politifact.com/factchecks/2020/apr...</td>\n",
       "    </tr>\n",
       "  </tbody>\n",
       "</table>\n",
       "<p>21152 rows × 8 columns</p>\n",
       "</div>"
      ],
      "text/plain": [
       "            verdict statement_originator  \\\n",
       "0              true         Barack Obama   \n",
       "1             false           Matt Gaetz   \n",
       "2       mostly-true         Kelly Ayotte   \n",
       "3             false             Bloggers   \n",
       "4         half-true         Bobby Jindal   \n",
       "...             ...                  ...   \n",
       "21147  mostly-false         Donald Trump   \n",
       "21148         false     Donald Trump Jr.   \n",
       "21149  mostly-false          Chris Abele   \n",
       "21150         false             Bloggers   \n",
       "21151  mostly-false       Facebook posts   \n",
       "\n",
       "                                               statement statement_date  \\\n",
       "0      John McCain opposed bankruptcy protections for...      6/11/2008   \n",
       "1      \"Bennie Thompson actively cheer-led riots in t...       6/7/2022   \n",
       "2      Says Maggie Hassan was \"out of state on 30 day...      5/18/2016   \n",
       "3      \"BUSTED: CDC Inflated COVID Numbers, Accused o...       2/1/2021   \n",
       "4      \"I'm the only (Republican) candidate that has ...      8/30/2015   \n",
       "...                                                  ...            ...   \n",
       "21147  Says the large trade deficit with Japan stems ...      8/13/2019   \n",
       "21148  \"Tens of thousands\" of people leave New York e...      11/1/2019   \n",
       "21149  \"I have fought for our shared values without b...       1/4/2011   \n",
       "21150  \"Germany halts all Covid-19 vaccines, says the...      8/27/2021   \n",
       "21151  Says for otherwise healthy people \"experiencin...      3/28/2020   \n",
       "\n",
       "      statement_source         factchecker factcheck_date  \\\n",
       "0               speech   Adriel Bettelheim      6/16/2008   \n",
       "1           television         Yacob Reyes      6/13/2022   \n",
       "2                 news      Clay Wirestone      5/27/2016   \n",
       "3                 blog      Madison Czopek       2/5/2021   \n",
       "4           television           Linda Qiu      8/30/2015   \n",
       "...                ...                 ...            ...   \n",
       "21147           speech       Jon Greenberg      8/15/2019   \n",
       "21148     social_media  Jill Terreri Ramos      11/8/2019   \n",
       "21149             news       Dave Umhoefer      1/13/2011   \n",
       "21150             blog      Ciara O'Rourke       9/9/2021   \n",
       "21151     social_media       Tom Kertscher       4/3/2020   \n",
       "\n",
       "                                 factcheck_analysis_link  \n",
       "0      https://www.politifact.com/factchecks/2008/jun...  \n",
       "1      https://www.politifact.com/factchecks/2022/jun...  \n",
       "2      https://www.politifact.com/factchecks/2016/may...  \n",
       "3      https://www.politifact.com/factchecks/2021/feb...  \n",
       "4      https://www.politifact.com/factchecks/2015/aug...  \n",
       "...                                                  ...  \n",
       "21147  https://www.politifact.com/factchecks/2019/aug...  \n",
       "21148  https://www.politifact.com/factchecks/2019/nov...  \n",
       "21149  https://www.politifact.com/factchecks/2011/jan...  \n",
       "21150  https://www.politifact.com/factchecks/2021/sep...  \n",
       "21151  https://www.politifact.com/factchecks/2020/apr...  \n",
       "\n",
       "[21152 rows x 8 columns]"
      ]
     },
     "execution_count": 3,
     "metadata": {},
     "output_type": "execute_result"
    }
   ],
   "source": [
    "df"
   ]
  },
  {
   "cell_type": "code",
   "execution_count": 4,
   "id": "ec8560a0",
   "metadata": {},
   "outputs": [],
   "source": [
    "df_c=(set(df.verdict.values))\n",
    "df_c=['false', 'half-true', 'mostly-false', 'mostly-true', 'pants-fire', 'true']"
   ]
  },
  {
   "cell_type": "code",
   "execution_count": 5,
   "id": "54cc436c",
   "metadata": {},
   "outputs": [
    {
     "data": {
      "text/html": [
       "<div>\n",
       "<style scoped>\n",
       "    .dataframe tbody tr th:only-of-type {\n",
       "        vertical-align: middle;\n",
       "    }\n",
       "\n",
       "    .dataframe tbody tr th {\n",
       "        vertical-align: top;\n",
       "    }\n",
       "\n",
       "    .dataframe thead th {\n",
       "        text-align: right;\n",
       "    }\n",
       "</style>\n",
       "<table border=\"1\" class=\"dataframe\">\n",
       "  <thead>\n",
       "    <tr style=\"text-align: right;\">\n",
       "      <th></th>\n",
       "      <th>false</th>\n",
       "      <th>half-true</th>\n",
       "      <th>mostly-false</th>\n",
       "      <th>mostly-true</th>\n",
       "      <th>pants-fire</th>\n",
       "      <th>true</th>\n",
       "    </tr>\n",
       "  </thead>\n",
       "  <tbody>\n",
       "    <tr>\n",
       "      <th>0</th>\n",
       "      <td>0.0</td>\n",
       "      <td>0.0</td>\n",
       "      <td>0.0</td>\n",
       "      <td>0.0</td>\n",
       "      <td>0.0</td>\n",
       "      <td>1.0</td>\n",
       "    </tr>\n",
       "    <tr>\n",
       "      <th>1</th>\n",
       "      <td>1.0</td>\n",
       "      <td>0.0</td>\n",
       "      <td>0.0</td>\n",
       "      <td>0.0</td>\n",
       "      <td>0.0</td>\n",
       "      <td>0.0</td>\n",
       "    </tr>\n",
       "    <tr>\n",
       "      <th>2</th>\n",
       "      <td>0.0</td>\n",
       "      <td>0.0</td>\n",
       "      <td>0.0</td>\n",
       "      <td>1.0</td>\n",
       "      <td>0.0</td>\n",
       "      <td>0.0</td>\n",
       "    </tr>\n",
       "    <tr>\n",
       "      <th>3</th>\n",
       "      <td>1.0</td>\n",
       "      <td>0.0</td>\n",
       "      <td>0.0</td>\n",
       "      <td>0.0</td>\n",
       "      <td>0.0</td>\n",
       "      <td>0.0</td>\n",
       "    </tr>\n",
       "    <tr>\n",
       "      <th>4</th>\n",
       "      <td>0.0</td>\n",
       "      <td>1.0</td>\n",
       "      <td>0.0</td>\n",
       "      <td>0.0</td>\n",
       "      <td>0.0</td>\n",
       "      <td>0.0</td>\n",
       "    </tr>\n",
       "    <tr>\n",
       "      <th>...</th>\n",
       "      <td>...</td>\n",
       "      <td>...</td>\n",
       "      <td>...</td>\n",
       "      <td>...</td>\n",
       "      <td>...</td>\n",
       "      <td>...</td>\n",
       "    </tr>\n",
       "    <tr>\n",
       "      <th>21147</th>\n",
       "      <td>0.0</td>\n",
       "      <td>0.0</td>\n",
       "      <td>1.0</td>\n",
       "      <td>0.0</td>\n",
       "      <td>0.0</td>\n",
       "      <td>0.0</td>\n",
       "    </tr>\n",
       "    <tr>\n",
       "      <th>21148</th>\n",
       "      <td>1.0</td>\n",
       "      <td>0.0</td>\n",
       "      <td>0.0</td>\n",
       "      <td>0.0</td>\n",
       "      <td>0.0</td>\n",
       "      <td>0.0</td>\n",
       "    </tr>\n",
       "    <tr>\n",
       "      <th>21149</th>\n",
       "      <td>0.0</td>\n",
       "      <td>0.0</td>\n",
       "      <td>1.0</td>\n",
       "      <td>0.0</td>\n",
       "      <td>0.0</td>\n",
       "      <td>0.0</td>\n",
       "    </tr>\n",
       "    <tr>\n",
       "      <th>21150</th>\n",
       "      <td>1.0</td>\n",
       "      <td>0.0</td>\n",
       "      <td>0.0</td>\n",
       "      <td>0.0</td>\n",
       "      <td>0.0</td>\n",
       "      <td>0.0</td>\n",
       "    </tr>\n",
       "    <tr>\n",
       "      <th>21151</th>\n",
       "      <td>0.0</td>\n",
       "      <td>0.0</td>\n",
       "      <td>1.0</td>\n",
       "      <td>0.0</td>\n",
       "      <td>0.0</td>\n",
       "      <td>0.0</td>\n",
       "    </tr>\n",
       "  </tbody>\n",
       "</table>\n",
       "<p>21152 rows × 6 columns</p>\n",
       "</div>"
      ],
      "text/plain": [
       "       false  half-true  mostly-false  mostly-true  pants-fire  true\n",
       "0        0.0        0.0           0.0          0.0         0.0   1.0\n",
       "1        1.0        0.0           0.0          0.0         0.0   0.0\n",
       "2        0.0        0.0           0.0          1.0         0.0   0.0\n",
       "3        1.0        0.0           0.0          0.0         0.0   0.0\n",
       "4        0.0        1.0           0.0          0.0         0.0   0.0\n",
       "...      ...        ...           ...          ...         ...   ...\n",
       "21147    0.0        0.0           1.0          0.0         0.0   0.0\n",
       "21148    1.0        0.0           0.0          0.0         0.0   0.0\n",
       "21149    0.0        0.0           1.0          0.0         0.0   0.0\n",
       "21150    1.0        0.0           0.0          0.0         0.0   0.0\n",
       "21151    0.0        0.0           1.0          0.0         0.0   0.0\n",
       "\n",
       "[21152 rows x 6 columns]"
      ]
     },
     "execution_count": 5,
     "metadata": {},
     "output_type": "execute_result"
    }
   ],
   "source": [
    "from sklearn.preprocessing import OneHotEncoder\n",
    "oh=OneHotEncoder()\n",
    "oh.fit(df[['verdict']])\n",
    "values=oh.transform(df[['verdict']]).toarray()\n",
    "df_1=pd.DataFrame(values,columns=df_c)\n",
    "df_1"
   ]
  },
  {
   "cell_type": "code",
   "execution_count": 6,
   "id": "27e0861d",
   "metadata": {},
   "outputs": [
    {
     "data": {
      "text/html": [
       "<div>\n",
       "<style scoped>\n",
       "    .dataframe tbody tr th:only-of-type {\n",
       "        vertical-align: middle;\n",
       "    }\n",
       "\n",
       "    .dataframe tbody tr th {\n",
       "        vertical-align: top;\n",
       "    }\n",
       "\n",
       "    .dataframe thead th {\n",
       "        text-align: right;\n",
       "    }\n",
       "</style>\n",
       "<table border=\"1\" class=\"dataframe\">\n",
       "  <thead>\n",
       "    <tr style=\"text-align: right;\">\n",
       "      <th></th>\n",
       "      <th>verdict</th>\n",
       "      <th>statement_originator</th>\n",
       "      <th>statement</th>\n",
       "      <th>statement_date</th>\n",
       "      <th>statement_source</th>\n",
       "      <th>factchecker</th>\n",
       "      <th>factcheck_date</th>\n",
       "      <th>factcheck_analysis_link</th>\n",
       "      <th>false</th>\n",
       "      <th>half-true</th>\n",
       "      <th>mostly-false</th>\n",
       "      <th>mostly-true</th>\n",
       "      <th>pants-fire</th>\n",
       "      <th>true</th>\n",
       "    </tr>\n",
       "  </thead>\n",
       "  <tbody>\n",
       "    <tr>\n",
       "      <th>0</th>\n",
       "      <td>true</td>\n",
       "      <td>Barack Obama</td>\n",
       "      <td>John McCain opposed bankruptcy protections for...</td>\n",
       "      <td>6/11/2008</td>\n",
       "      <td>speech</td>\n",
       "      <td>Adriel Bettelheim</td>\n",
       "      <td>6/16/2008</td>\n",
       "      <td>https://www.politifact.com/factchecks/2008/jun...</td>\n",
       "      <td>0.0</td>\n",
       "      <td>0.0</td>\n",
       "      <td>0.0</td>\n",
       "      <td>0.0</td>\n",
       "      <td>0.0</td>\n",
       "      <td>1.0</td>\n",
       "    </tr>\n",
       "    <tr>\n",
       "      <th>1</th>\n",
       "      <td>false</td>\n",
       "      <td>Matt Gaetz</td>\n",
       "      <td>\"Bennie Thompson actively cheer-led riots in t...</td>\n",
       "      <td>6/7/2022</td>\n",
       "      <td>television</td>\n",
       "      <td>Yacob Reyes</td>\n",
       "      <td>6/13/2022</td>\n",
       "      <td>https://www.politifact.com/factchecks/2022/jun...</td>\n",
       "      <td>1.0</td>\n",
       "      <td>0.0</td>\n",
       "      <td>0.0</td>\n",
       "      <td>0.0</td>\n",
       "      <td>0.0</td>\n",
       "      <td>0.0</td>\n",
       "    </tr>\n",
       "    <tr>\n",
       "      <th>2</th>\n",
       "      <td>mostly-true</td>\n",
       "      <td>Kelly Ayotte</td>\n",
       "      <td>Says Maggie Hassan was \"out of state on 30 day...</td>\n",
       "      <td>5/18/2016</td>\n",
       "      <td>news</td>\n",
       "      <td>Clay Wirestone</td>\n",
       "      <td>5/27/2016</td>\n",
       "      <td>https://www.politifact.com/factchecks/2016/may...</td>\n",
       "      <td>0.0</td>\n",
       "      <td>0.0</td>\n",
       "      <td>0.0</td>\n",
       "      <td>1.0</td>\n",
       "      <td>0.0</td>\n",
       "      <td>0.0</td>\n",
       "    </tr>\n",
       "    <tr>\n",
       "      <th>3</th>\n",
       "      <td>false</td>\n",
       "      <td>Bloggers</td>\n",
       "      <td>\"BUSTED: CDC Inflated COVID Numbers, Accused o...</td>\n",
       "      <td>2/1/2021</td>\n",
       "      <td>blog</td>\n",
       "      <td>Madison Czopek</td>\n",
       "      <td>2/5/2021</td>\n",
       "      <td>https://www.politifact.com/factchecks/2021/feb...</td>\n",
       "      <td>1.0</td>\n",
       "      <td>0.0</td>\n",
       "      <td>0.0</td>\n",
       "      <td>0.0</td>\n",
       "      <td>0.0</td>\n",
       "      <td>0.0</td>\n",
       "    </tr>\n",
       "    <tr>\n",
       "      <th>4</th>\n",
       "      <td>half-true</td>\n",
       "      <td>Bobby Jindal</td>\n",
       "      <td>\"I'm the only (Republican) candidate that has ...</td>\n",
       "      <td>8/30/2015</td>\n",
       "      <td>television</td>\n",
       "      <td>Linda Qiu</td>\n",
       "      <td>8/30/2015</td>\n",
       "      <td>https://www.politifact.com/factchecks/2015/aug...</td>\n",
       "      <td>0.0</td>\n",
       "      <td>1.0</td>\n",
       "      <td>0.0</td>\n",
       "      <td>0.0</td>\n",
       "      <td>0.0</td>\n",
       "      <td>0.0</td>\n",
       "    </tr>\n",
       "    <tr>\n",
       "      <th>...</th>\n",
       "      <td>...</td>\n",
       "      <td>...</td>\n",
       "      <td>...</td>\n",
       "      <td>...</td>\n",
       "      <td>...</td>\n",
       "      <td>...</td>\n",
       "      <td>...</td>\n",
       "      <td>...</td>\n",
       "      <td>...</td>\n",
       "      <td>...</td>\n",
       "      <td>...</td>\n",
       "      <td>...</td>\n",
       "      <td>...</td>\n",
       "      <td>...</td>\n",
       "    </tr>\n",
       "    <tr>\n",
       "      <th>21147</th>\n",
       "      <td>mostly-false</td>\n",
       "      <td>Donald Trump</td>\n",
       "      <td>Says the large trade deficit with Japan stems ...</td>\n",
       "      <td>8/13/2019</td>\n",
       "      <td>speech</td>\n",
       "      <td>Jon Greenberg</td>\n",
       "      <td>8/15/2019</td>\n",
       "      <td>https://www.politifact.com/factchecks/2019/aug...</td>\n",
       "      <td>0.0</td>\n",
       "      <td>0.0</td>\n",
       "      <td>1.0</td>\n",
       "      <td>0.0</td>\n",
       "      <td>0.0</td>\n",
       "      <td>0.0</td>\n",
       "    </tr>\n",
       "    <tr>\n",
       "      <th>21148</th>\n",
       "      <td>false</td>\n",
       "      <td>Donald Trump Jr.</td>\n",
       "      <td>\"Tens of thousands\" of people leave New York e...</td>\n",
       "      <td>11/1/2019</td>\n",
       "      <td>social_media</td>\n",
       "      <td>Jill Terreri Ramos</td>\n",
       "      <td>11/8/2019</td>\n",
       "      <td>https://www.politifact.com/factchecks/2019/nov...</td>\n",
       "      <td>1.0</td>\n",
       "      <td>0.0</td>\n",
       "      <td>0.0</td>\n",
       "      <td>0.0</td>\n",
       "      <td>0.0</td>\n",
       "      <td>0.0</td>\n",
       "    </tr>\n",
       "    <tr>\n",
       "      <th>21149</th>\n",
       "      <td>mostly-false</td>\n",
       "      <td>Chris Abele</td>\n",
       "      <td>\"I have fought for our shared values without b...</td>\n",
       "      <td>1/4/2011</td>\n",
       "      <td>news</td>\n",
       "      <td>Dave Umhoefer</td>\n",
       "      <td>1/13/2011</td>\n",
       "      <td>https://www.politifact.com/factchecks/2011/jan...</td>\n",
       "      <td>0.0</td>\n",
       "      <td>0.0</td>\n",
       "      <td>1.0</td>\n",
       "      <td>0.0</td>\n",
       "      <td>0.0</td>\n",
       "      <td>0.0</td>\n",
       "    </tr>\n",
       "    <tr>\n",
       "      <th>21150</th>\n",
       "      <td>false</td>\n",
       "      <td>Bloggers</td>\n",
       "      <td>\"Germany halts all Covid-19 vaccines, says the...</td>\n",
       "      <td>8/27/2021</td>\n",
       "      <td>blog</td>\n",
       "      <td>Ciara O'Rourke</td>\n",
       "      <td>9/9/2021</td>\n",
       "      <td>https://www.politifact.com/factchecks/2021/sep...</td>\n",
       "      <td>1.0</td>\n",
       "      <td>0.0</td>\n",
       "      <td>0.0</td>\n",
       "      <td>0.0</td>\n",
       "      <td>0.0</td>\n",
       "      <td>0.0</td>\n",
       "    </tr>\n",
       "    <tr>\n",
       "      <th>21151</th>\n",
       "      <td>mostly-false</td>\n",
       "      <td>Facebook posts</td>\n",
       "      <td>Says for otherwise healthy people \"experiencin...</td>\n",
       "      <td>3/28/2020</td>\n",
       "      <td>social_media</td>\n",
       "      <td>Tom Kertscher</td>\n",
       "      <td>4/3/2020</td>\n",
       "      <td>https://www.politifact.com/factchecks/2020/apr...</td>\n",
       "      <td>0.0</td>\n",
       "      <td>0.0</td>\n",
       "      <td>1.0</td>\n",
       "      <td>0.0</td>\n",
       "      <td>0.0</td>\n",
       "      <td>0.0</td>\n",
       "    </tr>\n",
       "  </tbody>\n",
       "</table>\n",
       "<p>21152 rows × 14 columns</p>\n",
       "</div>"
      ],
      "text/plain": [
       "            verdict statement_originator  \\\n",
       "0              true         Barack Obama   \n",
       "1             false           Matt Gaetz   \n",
       "2       mostly-true         Kelly Ayotte   \n",
       "3             false             Bloggers   \n",
       "4         half-true         Bobby Jindal   \n",
       "...             ...                  ...   \n",
       "21147  mostly-false         Donald Trump   \n",
       "21148         false     Donald Trump Jr.   \n",
       "21149  mostly-false          Chris Abele   \n",
       "21150         false             Bloggers   \n",
       "21151  mostly-false       Facebook posts   \n",
       "\n",
       "                                               statement statement_date  \\\n",
       "0      John McCain opposed bankruptcy protections for...      6/11/2008   \n",
       "1      \"Bennie Thompson actively cheer-led riots in t...       6/7/2022   \n",
       "2      Says Maggie Hassan was \"out of state on 30 day...      5/18/2016   \n",
       "3      \"BUSTED: CDC Inflated COVID Numbers, Accused o...       2/1/2021   \n",
       "4      \"I'm the only (Republican) candidate that has ...      8/30/2015   \n",
       "...                                                  ...            ...   \n",
       "21147  Says the large trade deficit with Japan stems ...      8/13/2019   \n",
       "21148  \"Tens of thousands\" of people leave New York e...      11/1/2019   \n",
       "21149  \"I have fought for our shared values without b...       1/4/2011   \n",
       "21150  \"Germany halts all Covid-19 vaccines, says the...      8/27/2021   \n",
       "21151  Says for otherwise healthy people \"experiencin...      3/28/2020   \n",
       "\n",
       "      statement_source         factchecker factcheck_date  \\\n",
       "0               speech   Adriel Bettelheim      6/16/2008   \n",
       "1           television         Yacob Reyes      6/13/2022   \n",
       "2                 news      Clay Wirestone      5/27/2016   \n",
       "3                 blog      Madison Czopek       2/5/2021   \n",
       "4           television           Linda Qiu      8/30/2015   \n",
       "...                ...                 ...            ...   \n",
       "21147           speech       Jon Greenberg      8/15/2019   \n",
       "21148     social_media  Jill Terreri Ramos      11/8/2019   \n",
       "21149             news       Dave Umhoefer      1/13/2011   \n",
       "21150             blog      Ciara O'Rourke       9/9/2021   \n",
       "21151     social_media       Tom Kertscher       4/3/2020   \n",
       "\n",
       "                                 factcheck_analysis_link  false  half-true  \\\n",
       "0      https://www.politifact.com/factchecks/2008/jun...    0.0        0.0   \n",
       "1      https://www.politifact.com/factchecks/2022/jun...    1.0        0.0   \n",
       "2      https://www.politifact.com/factchecks/2016/may...    0.0        0.0   \n",
       "3      https://www.politifact.com/factchecks/2021/feb...    1.0        0.0   \n",
       "4      https://www.politifact.com/factchecks/2015/aug...    0.0        1.0   \n",
       "...                                                  ...    ...        ...   \n",
       "21147  https://www.politifact.com/factchecks/2019/aug...    0.0        0.0   \n",
       "21148  https://www.politifact.com/factchecks/2019/nov...    1.0        0.0   \n",
       "21149  https://www.politifact.com/factchecks/2011/jan...    0.0        0.0   \n",
       "21150  https://www.politifact.com/factchecks/2021/sep...    1.0        0.0   \n",
       "21151  https://www.politifact.com/factchecks/2020/apr...    0.0        0.0   \n",
       "\n",
       "       mostly-false  mostly-true  pants-fire  true  \n",
       "0               0.0          0.0         0.0   1.0  \n",
       "1               0.0          0.0         0.0   0.0  \n",
       "2               0.0          1.0         0.0   0.0  \n",
       "3               0.0          0.0         0.0   0.0  \n",
       "4               0.0          0.0         0.0   0.0  \n",
       "...             ...          ...         ...   ...  \n",
       "21147           1.0          0.0         0.0   0.0  \n",
       "21148           0.0          0.0         0.0   0.0  \n",
       "21149           1.0          0.0         0.0   0.0  \n",
       "21150           0.0          0.0         0.0   0.0  \n",
       "21151           1.0          0.0         0.0   0.0  \n",
       "\n",
       "[21152 rows x 14 columns]"
      ]
     },
     "execution_count": 6,
     "metadata": {},
     "output_type": "execute_result"
    }
   ],
   "source": [
    "new_df=pd.concat([df,df_1],axis=1)\n",
    "new_df"
   ]
  },
  {
   "cell_type": "code",
   "execution_count": 7,
   "id": "f04e1c3b",
   "metadata": {},
   "outputs": [
    {
     "data": {
      "text/html": [
       "<div>\n",
       "<style scoped>\n",
       "    .dataframe tbody tr th:only-of-type {\n",
       "        vertical-align: middle;\n",
       "    }\n",
       "\n",
       "    .dataframe tbody tr th {\n",
       "        vertical-align: top;\n",
       "    }\n",
       "\n",
       "    .dataframe thead th {\n",
       "        text-align: right;\n",
       "    }\n",
       "</style>\n",
       "<table border=\"1\" class=\"dataframe\">\n",
       "  <thead>\n",
       "    <tr style=\"text-align: right;\">\n",
       "      <th></th>\n",
       "      <th>statement</th>\n",
       "      <th>false</th>\n",
       "      <th>half-true</th>\n",
       "      <th>mostly-false</th>\n",
       "      <th>mostly-true</th>\n",
       "      <th>pants-fire</th>\n",
       "      <th>true</th>\n",
       "    </tr>\n",
       "  </thead>\n",
       "  <tbody>\n",
       "    <tr>\n",
       "      <th>0</th>\n",
       "      <td>John McCain opposed bankruptcy protections for...</td>\n",
       "      <td>0.0</td>\n",
       "      <td>0.0</td>\n",
       "      <td>0.0</td>\n",
       "      <td>0.0</td>\n",
       "      <td>0.0</td>\n",
       "      <td>1.0</td>\n",
       "    </tr>\n",
       "    <tr>\n",
       "      <th>1</th>\n",
       "      <td>\"Bennie Thompson actively cheer-led riots in t...</td>\n",
       "      <td>1.0</td>\n",
       "      <td>0.0</td>\n",
       "      <td>0.0</td>\n",
       "      <td>0.0</td>\n",
       "      <td>0.0</td>\n",
       "      <td>0.0</td>\n",
       "    </tr>\n",
       "    <tr>\n",
       "      <th>2</th>\n",
       "      <td>Says Maggie Hassan was \"out of state on 30 day...</td>\n",
       "      <td>0.0</td>\n",
       "      <td>0.0</td>\n",
       "      <td>0.0</td>\n",
       "      <td>1.0</td>\n",
       "      <td>0.0</td>\n",
       "      <td>0.0</td>\n",
       "    </tr>\n",
       "    <tr>\n",
       "      <th>3</th>\n",
       "      <td>\"BUSTED: CDC Inflated COVID Numbers, Accused o...</td>\n",
       "      <td>1.0</td>\n",
       "      <td>0.0</td>\n",
       "      <td>0.0</td>\n",
       "      <td>0.0</td>\n",
       "      <td>0.0</td>\n",
       "      <td>0.0</td>\n",
       "    </tr>\n",
       "    <tr>\n",
       "      <th>4</th>\n",
       "      <td>\"I'm the only (Republican) candidate that has ...</td>\n",
       "      <td>0.0</td>\n",
       "      <td>1.0</td>\n",
       "      <td>0.0</td>\n",
       "      <td>0.0</td>\n",
       "      <td>0.0</td>\n",
       "      <td>0.0</td>\n",
       "    </tr>\n",
       "    <tr>\n",
       "      <th>...</th>\n",
       "      <td>...</td>\n",
       "      <td>...</td>\n",
       "      <td>...</td>\n",
       "      <td>...</td>\n",
       "      <td>...</td>\n",
       "      <td>...</td>\n",
       "      <td>...</td>\n",
       "    </tr>\n",
       "    <tr>\n",
       "      <th>21147</th>\n",
       "      <td>Says the large trade deficit with Japan stems ...</td>\n",
       "      <td>0.0</td>\n",
       "      <td>0.0</td>\n",
       "      <td>1.0</td>\n",
       "      <td>0.0</td>\n",
       "      <td>0.0</td>\n",
       "      <td>0.0</td>\n",
       "    </tr>\n",
       "    <tr>\n",
       "      <th>21148</th>\n",
       "      <td>\"Tens of thousands\" of people leave New York e...</td>\n",
       "      <td>1.0</td>\n",
       "      <td>0.0</td>\n",
       "      <td>0.0</td>\n",
       "      <td>0.0</td>\n",
       "      <td>0.0</td>\n",
       "      <td>0.0</td>\n",
       "    </tr>\n",
       "    <tr>\n",
       "      <th>21149</th>\n",
       "      <td>\"I have fought for our shared values without b...</td>\n",
       "      <td>0.0</td>\n",
       "      <td>0.0</td>\n",
       "      <td>1.0</td>\n",
       "      <td>0.0</td>\n",
       "      <td>0.0</td>\n",
       "      <td>0.0</td>\n",
       "    </tr>\n",
       "    <tr>\n",
       "      <th>21150</th>\n",
       "      <td>\"Germany halts all Covid-19 vaccines, says the...</td>\n",
       "      <td>1.0</td>\n",
       "      <td>0.0</td>\n",
       "      <td>0.0</td>\n",
       "      <td>0.0</td>\n",
       "      <td>0.0</td>\n",
       "      <td>0.0</td>\n",
       "    </tr>\n",
       "    <tr>\n",
       "      <th>21151</th>\n",
       "      <td>Says for otherwise healthy people \"experiencin...</td>\n",
       "      <td>0.0</td>\n",
       "      <td>0.0</td>\n",
       "      <td>1.0</td>\n",
       "      <td>0.0</td>\n",
       "      <td>0.0</td>\n",
       "      <td>0.0</td>\n",
       "    </tr>\n",
       "  </tbody>\n",
       "</table>\n",
       "<p>21152 rows × 7 columns</p>\n",
       "</div>"
      ],
      "text/plain": [
       "                                               statement  false  half-true  \\\n",
       "0      John McCain opposed bankruptcy protections for...    0.0        0.0   \n",
       "1      \"Bennie Thompson actively cheer-led riots in t...    1.0        0.0   \n",
       "2      Says Maggie Hassan was \"out of state on 30 day...    0.0        0.0   \n",
       "3      \"BUSTED: CDC Inflated COVID Numbers, Accused o...    1.0        0.0   \n",
       "4      \"I'm the only (Republican) candidate that has ...    0.0        1.0   \n",
       "...                                                  ...    ...        ...   \n",
       "21147  Says the large trade deficit with Japan stems ...    0.0        0.0   \n",
       "21148  \"Tens of thousands\" of people leave New York e...    1.0        0.0   \n",
       "21149  \"I have fought for our shared values without b...    0.0        0.0   \n",
       "21150  \"Germany halts all Covid-19 vaccines, says the...    1.0        0.0   \n",
       "21151  Says for otherwise healthy people \"experiencin...    0.0        0.0   \n",
       "\n",
       "       mostly-false  mostly-true  pants-fire  true  \n",
       "0               0.0          0.0         0.0   1.0  \n",
       "1               0.0          0.0         0.0   0.0  \n",
       "2               0.0          1.0         0.0   0.0  \n",
       "3               0.0          0.0         0.0   0.0  \n",
       "4               0.0          0.0         0.0   0.0  \n",
       "...             ...          ...         ...   ...  \n",
       "21147           1.0          0.0         0.0   0.0  \n",
       "21148           0.0          0.0         0.0   0.0  \n",
       "21149           1.0          0.0         0.0   0.0  \n",
       "21150           0.0          0.0         0.0   0.0  \n",
       "21151           1.0          0.0         0.0   0.0  \n",
       "\n",
       "[21152 rows x 7 columns]"
      ]
     },
     "execution_count": 7,
     "metadata": {},
     "output_type": "execute_result"
    }
   ],
   "source": [
    "df=new_df.drop(['statement_originator','statement_date','verdict','statement_source','factchecker','factcheck_analysis_link','factcheck_date'],axis=1)\n",
    "df"
   ]
  },
  {
   "cell_type": "code",
   "execution_count": 8,
   "id": "a6a33d28",
   "metadata": {},
   "outputs": [
    {
     "data": {
      "text/html": [
       "<div>\n",
       "<style scoped>\n",
       "    .dataframe tbody tr th:only-of-type {\n",
       "        vertical-align: middle;\n",
       "    }\n",
       "\n",
       "    .dataframe tbody tr th {\n",
       "        vertical-align: top;\n",
       "    }\n",
       "\n",
       "    .dataframe thead th {\n",
       "        text-align: right;\n",
       "    }\n",
       "</style>\n",
       "<table border=\"1\" class=\"dataframe\">\n",
       "  <thead>\n",
       "    <tr style=\"text-align: right;\">\n",
       "      <th></th>\n",
       "      <th>category</th>\n",
       "      <th>number_of_comments</th>\n",
       "    </tr>\n",
       "  </thead>\n",
       "  <tbody>\n",
       "    <tr>\n",
       "      <th>0</th>\n",
       "      <td>false</td>\n",
       "      <td>5625.0</td>\n",
       "    </tr>\n",
       "    <tr>\n",
       "      <th>1</th>\n",
       "      <td>half-true</td>\n",
       "      <td>3597.0</td>\n",
       "    </tr>\n",
       "    <tr>\n",
       "      <th>2</th>\n",
       "      <td>mostly-false</td>\n",
       "      <td>3432.0</td>\n",
       "    </tr>\n",
       "    <tr>\n",
       "      <th>3</th>\n",
       "      <td>mostly-true</td>\n",
       "      <td>3332.0</td>\n",
       "    </tr>\n",
       "    <tr>\n",
       "      <th>4</th>\n",
       "      <td>pants-fire</td>\n",
       "      <td>2703.0</td>\n",
       "    </tr>\n",
       "    <tr>\n",
       "      <th>5</th>\n",
       "      <td>true</td>\n",
       "      <td>2463.0</td>\n",
       "    </tr>\n",
       "  </tbody>\n",
       "</table>\n",
       "</div>"
      ],
      "text/plain": [
       "       category  number_of_comments\n",
       "0         false              5625.0\n",
       "1     half-true              3597.0\n",
       "2  mostly-false              3432.0\n",
       "3   mostly-true              3332.0\n",
       "4    pants-fire              2703.0\n",
       "5          true              2463.0"
      ]
     },
     "execution_count": 8,
     "metadata": {},
     "output_type": "execute_result"
    }
   ],
   "source": [
    "counts = []\n",
    "df_count=df.drop(['statement'],axis=1)\n",
    "categories = list(df_count.columns.values)\n",
    "for i in categories:\n",
    "    counts.append((i, df[i].sum()))\n",
    "df_stats = pd.DataFrame(counts, columns=['category', 'number_of_comments'])\n",
    "df_stats"
   ]
  },
  {
   "cell_type": "code",
   "execution_count": 9,
   "id": "a864086e",
   "metadata": {},
   "outputs": [
    {
     "data": {
      "text/plain": [
       "Text(0.5, 0, 'category')"
      ]
     },
     "execution_count": 9,
     "metadata": {},
     "output_type": "execute_result"
    },
    {
     "data": {
      "image/png": "[encoded data removed]",
      "text/plain": [
       "<Figure size 800x500 with 1 Axes>"
      ]
     },
     "metadata": {},
     "output_type": "display_data"
    }
   ],
   "source": [
    "df_stats.plot(x='category', y='number_of_comments', kind='bar', legend=False, grid=True, figsize=(8, 5))\n",
    "plt.title(\"Number of comments per category\")\n",
    "plt.ylabel('# of Occurrences', fontsize=12)\n",
    "plt.xlabel('category', fontsize=12)"
   ]
  },
  {
   "cell_type": "code",
   "execution_count": 10,
   "id": "a8d85e04",
   "metadata": {},
   "outputs": [
    {
     "data": {
      "text/plain": [
       "0"
      ]
     },
     "execution_count": 10,
     "metadata": {},
     "output_type": "execute_result"
    }
   ],
   "source": [
    "df.statement.isnull().sum()"
   ]
  },
  {
   "cell_type": "code",
   "execution_count": 11,
   "id": "9663a1ee",
   "metadata": {},
   "outputs": [
    {
     "data": {
      "text/plain": [
       "['false', 'half-true', 'mostly-false', 'mostly-true', 'pants-fire', 'true']"
      ]
     },
     "execution_count": 11,
     "metadata": {},
     "output_type": "execute_result"
    }
   ],
   "source": [
    "categories"
   ]
  },
  {
   "cell_type": "code",
   "execution_count": 12,
   "id": "9fbe24fb",
   "metadata": {},
   "outputs": [],
   "source": [
    "def clean_text(text):\n",
    "    text = text.lower()\n",
    "    text = re.sub(r\"what's\", \"what is \", text)\n",
    "    text = re.sub(r\"\\'s\", \" \", text)\n",
    "    text = re.sub(r\"\\'ve\", \" have \", text)\n",
    "    text = re.sub(r\"can't\", \"can not \", text)\n",
    "    text = re.sub(r\"n't\", \" not \", text)\n",
    "    text = re.sub(r\"i'm\", \"i am \", text)\n",
    "    text = re.sub(r\"\\'re\", \" are \", text)\n",
    "    text = re.sub(r\"\\'d\", \" would \", text)\n",
    "    text = re.sub(r\"\\'ll\", \" will \", text)\n",
    "    text = re.sub(r\"\\'scuse\", \" excuse \", text)\n",
    "    text = re.sub('\\W', ' ', text)\n",
    "    text = re.sub('\\s+', ' ', text)\n",
    "    text = text.strip(' ')\n",
    "    return text"
   ]
  },
  {
   "cell_type": "code",
   "execution_count": 13,
   "id": "b4753ecd",
   "metadata": {},
   "outputs": [],
   "source": [
    "df['statement'] = df['statement'].map(lambda com : clean_text(com))"
   ]
  },
  {
   "cell_type": "code",
   "execution_count": 14,
   "id": "532991d5",
   "metadata": {},
   "outputs": [
    {
     "data": {
      "text/plain": [
       "'john mccain opposed bankruptcy protections for families who were only in bankruptcy because of medical expenses they could not pay'"
      ]
     },
     "execution_count": 14,
     "metadata": {},
     "output_type": "execute_result"
    }
   ],
   "source": [
    "df['statement'][0]"
   ]
  },
  {
   "cell_type": "code",
   "execution_count": 15,
   "id": "8f652046",
   "metadata": {},
   "outputs": [],
   "source": [
    "from sklearn.metrics import classification_report, confusion_matrix"
   ]
  },
  {
   "cell_type": "code",
   "execution_count": 16,
   "id": "47f69ed9",
   "metadata": {},
   "outputs": [],
   "source": [
    "train, test = train_test_split(df, random_state=12, test_size=0.20, shuffle=True)"
   ]
  },
  {
   "cell_type": "code",
   "execution_count": 17,
   "id": "232ed8cb",
   "metadata": {},
   "outputs": [
    {
     "name": "stdout",
     "output_type": "stream",
     "text": [
      "(16921,)\n",
      "(4231,)\n"
     ]
    }
   ],
   "source": [
    "X_train = train.statement\n",
    "X_test = test.statement\n",
    "print(X_train.shape)\n",
    "print(X_test.shape)"
   ]
  },
  {
   "cell_type": "code",
   "execution_count": 18,
   "id": "1be94ac1",
   "metadata": {},
   "outputs": [
    {
     "data": {
      "text/html": [
       "<div>\n",
       "<style scoped>\n",
       "    .dataframe tbody tr th:only-of-type {\n",
       "        vertical-align: middle;\n",
       "    }\n",
       "\n",
       "    .dataframe tbody tr th {\n",
       "        vertical-align: top;\n",
       "    }\n",
       "\n",
       "    .dataframe thead th {\n",
       "        text-align: right;\n",
       "    }\n",
       "</style>\n",
       "<table border=\"1\" class=\"dataframe\">\n",
       "  <thead>\n",
       "    <tr style=\"text-align: right;\">\n",
       "      <th></th>\n",
       "      <th>statement</th>\n",
       "      <th>false</th>\n",
       "      <th>half-true</th>\n",
       "      <th>mostly-false</th>\n",
       "      <th>mostly-true</th>\n",
       "      <th>pants-fire</th>\n",
       "      <th>true</th>\n",
       "    </tr>\n",
       "  </thead>\n",
       "  <tbody>\n",
       "    <tr>\n",
       "      <th>5676</th>\n",
       "      <td>says miami congressman carlos curbelo supports...</td>\n",
       "      <td>0.0</td>\n",
       "      <td>0.0</td>\n",
       "      <td>1.0</td>\n",
       "      <td>0.0</td>\n",
       "      <td>0.0</td>\n",
       "      <td>0.0</td>\n",
       "    </tr>\n",
       "    <tr>\n",
       "      <th>17256</th>\n",
       "      <td>even members of the nra when they were polled ...</td>\n",
       "      <td>0.0</td>\n",
       "      <td>0.0</td>\n",
       "      <td>0.0</td>\n",
       "      <td>1.0</td>\n",
       "      <td>0.0</td>\n",
       "      <td>0.0</td>\n",
       "    </tr>\n",
       "    <tr>\n",
       "      <th>11621</th>\n",
       "      <td>the climatic research unit e mails show that t...</td>\n",
       "      <td>1.0</td>\n",
       "      <td>0.0</td>\n",
       "      <td>0.0</td>\n",
       "      <td>0.0</td>\n",
       "      <td>0.0</td>\n",
       "      <td>0.0</td>\n",
       "    </tr>\n",
       "    <tr>\n",
       "      <th>2159</th>\n",
       "      <td>the impact of president biden being beholden t...</td>\n",
       "      <td>1.0</td>\n",
       "      <td>0.0</td>\n",
       "      <td>0.0</td>\n",
       "      <td>0.0</td>\n",
       "      <td>0.0</td>\n",
       "      <td>0.0</td>\n",
       "    </tr>\n",
       "    <tr>\n",
       "      <th>10967</th>\n",
       "      <td>photo shows empire state building lit up to su...</td>\n",
       "      <td>1.0</td>\n",
       "      <td>0.0</td>\n",
       "      <td>0.0</td>\n",
       "      <td>0.0</td>\n",
       "      <td>0.0</td>\n",
       "      <td>0.0</td>\n",
       "    </tr>\n",
       "    <tr>\n",
       "      <th>...</th>\n",
       "      <td>...</td>\n",
       "      <td>...</td>\n",
       "      <td>...</td>\n",
       "      <td>...</td>\n",
       "      <td>...</td>\n",
       "      <td>...</td>\n",
       "      <td>...</td>\n",
       "    </tr>\n",
       "    <tr>\n",
       "      <th>3714</th>\n",
       "      <td>you have areas of pennsylvania that are barely...</td>\n",
       "      <td>0.0</td>\n",
       "      <td>1.0</td>\n",
       "      <td>0.0</td>\n",
       "      <td>0.0</td>\n",
       "      <td>0.0</td>\n",
       "      <td>0.0</td>\n",
       "    </tr>\n",
       "    <tr>\n",
       "      <th>7409</th>\n",
       "      <td>children who receive covid 19 vaccinations wil...</td>\n",
       "      <td>1.0</td>\n",
       "      <td>0.0</td>\n",
       "      <td>0.0</td>\n",
       "      <td>0.0</td>\n",
       "      <td>0.0</td>\n",
       "      <td>0.0</td>\n",
       "    </tr>\n",
       "    <tr>\n",
       "      <th>19709</th>\n",
       "      <td>says chuck hagel opposed sanctions against iran</td>\n",
       "      <td>0.0</td>\n",
       "      <td>1.0</td>\n",
       "      <td>0.0</td>\n",
       "      <td>0.0</td>\n",
       "      <td>0.0</td>\n",
       "      <td>0.0</td>\n",
       "    </tr>\n",
       "    <tr>\n",
       "      <th>5787</th>\n",
       "      <td>we have the highest funding in the k 12 system...</td>\n",
       "      <td>0.0</td>\n",
       "      <td>0.0</td>\n",
       "      <td>1.0</td>\n",
       "      <td>0.0</td>\n",
       "      <td>0.0</td>\n",
       "      <td>0.0</td>\n",
       "    </tr>\n",
       "    <tr>\n",
       "      <th>14155</th>\n",
       "      <td>republican leadership took the lead confirming...</td>\n",
       "      <td>0.0</td>\n",
       "      <td>0.0</td>\n",
       "      <td>1.0</td>\n",
       "      <td>0.0</td>\n",
       "      <td>0.0</td>\n",
       "      <td>0.0</td>\n",
       "    </tr>\n",
       "  </tbody>\n",
       "</table>\n",
       "<p>16921 rows × 7 columns</p>\n",
       "</div>"
      ],
      "text/plain": [
       "                                               statement  false  half-true  \\\n",
       "5676   says miami congressman carlos curbelo supports...    0.0        0.0   \n",
       "17256  even members of the nra when they were polled ...    0.0        0.0   \n",
       "11621  the climatic research unit e mails show that t...    1.0        0.0   \n",
       "2159   the impact of president biden being beholden t...    1.0        0.0   \n",
       "10967  photo shows empire state building lit up to su...    1.0        0.0   \n",
       "...                                                  ...    ...        ...   \n",
       "3714   you have areas of pennsylvania that are barely...    0.0        1.0   \n",
       "7409   children who receive covid 19 vaccinations wil...    1.0        0.0   \n",
       "19709    says chuck hagel opposed sanctions against iran    0.0        1.0   \n",
       "5787   we have the highest funding in the k 12 system...    0.0        0.0   \n",
       "14155  republican leadership took the lead confirming...    0.0        0.0   \n",
       "\n",
       "       mostly-false  mostly-true  pants-fire  true  \n",
       "5676            1.0          0.0         0.0   0.0  \n",
       "17256           0.0          1.0         0.0   0.0  \n",
       "11621           0.0          0.0         0.0   0.0  \n",
       "2159            0.0          0.0         0.0   0.0  \n",
       "10967           0.0          0.0         0.0   0.0  \n",
       "...             ...          ...         ...   ...  \n",
       "3714            0.0          0.0         0.0   0.0  \n",
       "7409            0.0          0.0         0.0   0.0  \n",
       "19709           0.0          0.0         0.0   0.0  \n",
       "5787            1.0          0.0         0.0   0.0  \n",
       "14155           1.0          0.0         0.0   0.0  \n",
       "\n",
       "[16921 rows x 7 columns]"
      ]
     },
     "execution_count": 18,
     "metadata": {},
     "output_type": "execute_result"
    }
   ],
   "source": [
    "train"
   ]
  },
  {
   "cell_type": "code",
   "execution_count": 19,
   "id": "3014105b",
   "metadata": {},
   "outputs": [],
   "source": [
    "# Define a pipeline combining a text feature extractor with multi lable classifier\n",
    "NB_pipeline = Pipeline([\n",
    "                ('tfidf', TfidfVectorizer(stop_words=list(stop_words))),\n",
    "                ('clf', OneVsRestClassifier(MultinomialNB(\n",
    "                    fit_prior=True, class_prior=None))),\n",
    "            ])"
   ]
  },
  {
   "cell_type": "code",
   "execution_count": 20,
   "id": "7d283a38",
   "metadata": {},
   "outputs": [
    {
     "name": "stdout",
     "output_type": "stream",
     "text": [
      "... Processing false\n",
      "Test accuracy is 0.7506499645473883\n",
      "classification_report is               precision    recall  f1-score   support\n",
      "\n",
      "         0.0       0.75      0.99      0.85      3137\n",
      "         1.0       0.67      0.07      0.13      1094\n",
      "\n",
      "    accuracy                           0.75      4231\n",
      "   macro avg       0.71      0.53      0.49      4231\n",
      "weighted avg       0.73      0.75      0.67      4231\n",
      "\n",
      "confusion_matrix is \n",
      "[[3099   38]\n",
      " [1017   77]]\n"
     ]
    },
    {
     "data": {
      "image/png": "[encoded data removed]",
      "text/plain": [
       "<Figure size 300x300 with 1 Axes>"
      ]
     },
     "metadata": {},
     "output_type": "display_data"
    },
    {
     "name": "stdout",
     "output_type": "stream",
     "text": [
      "---------------------------------------------------------------------------------------------------------------\n",
      "... Processing half-true\n",
      "Test accuracy is 0.8359725833136374\n",
      "classification_report is               precision    recall  f1-score   support\n",
      "\n",
      "         0.0       0.84      1.00      0.91      3537\n",
      "         1.0       0.00      0.00      0.00       694\n",
      "\n",
      "    accuracy                           0.84      4231\n",
      "   macro avg       0.42      0.50      0.46      4231\n",
      "weighted avg       0.70      0.84      0.76      4231\n",
      "\n",
      "confusion_matrix is \n",
      "[[3537    0]\n",
      " [ 694    0]]\n"
     ]
    },
    {
     "name": "stderr",
     "output_type": "stream",
     "text": [
      "C:\\Users\\deepa\\AppData\\Local\\anaconda3\\lib\\site-packages\\sklearn\\metrics\\_classification.py:1344: UndefinedMetricWarning: Precision and F-score are ill-defined and being set to 0.0 in labels with no predicted samples. Use `zero_division` parameter to control this behavior.\n",
      "  _warn_prf(average, modifier, msg_start, len(result))\n",
      "C:\\Users\\deepa\\AppData\\Local\\anaconda3\\lib\\site-packages\\sklearn\\metrics\\_classification.py:1344: UndefinedMetricWarning: Precision and F-score are ill-defined and being set to 0.0 in labels with no predicted samples. Use `zero_division` parameter to control this behavior.\n",
      "  _warn_prf(average, modifier, msg_start, len(result))\n",
      "C:\\Users\\deepa\\AppData\\Local\\anaconda3\\lib\\site-packages\\sklearn\\metrics\\_classification.py:1344: UndefinedMetricWarning: Precision and F-score are ill-defined and being set to 0.0 in labels with no predicted samples. Use `zero_division` parameter to control this behavior.\n",
      "  _warn_prf(average, modifier, msg_start, len(result))\n"
     ]
    },
    {
     "data": {
      "image/png": "[encoded data removed]",
      "text/plain": [
       "<Figure size 300x300 with 1 Axes>"
      ]
     },
     "metadata": {},
     "output_type": "display_data"
    },
    {
     "name": "stdout",
     "output_type": "stream",
     "text": [
      "---------------------------------------------------------------------------------------------------------------\n",
      "... Processing mostly-false\n",
      "Test accuracy is 0.8406995982037343\n",
      "classification_report is               precision    recall  f1-score   support\n",
      "\n",
      "         0.0       0.84      1.00      0.91      3557\n",
      "         1.0       0.00      0.00      0.00       674\n",
      "\n",
      "    accuracy                           0.84      4231\n",
      "   macro avg       0.42      0.50      0.46      4231\n",
      "weighted avg       0.71      0.84      0.77      4231\n",
      "\n",
      "confusion_matrix is \n",
      "[[3557    0]\n",
      " [ 674    0]]\n"
     ]
    },
    {
     "name": "stderr",
     "output_type": "stream",
     "text": [
      "C:\\Users\\deepa\\AppData\\Local\\anaconda3\\lib\\site-packages\\sklearn\\metrics\\_classification.py:1344: UndefinedMetricWarning: Precision and F-score are ill-defined and being set to 0.0 in labels with no predicted samples. Use `zero_division` parameter to control this behavior.\n",
      "  _warn_prf(average, modifier, msg_start, len(result))\n",
      "C:\\Users\\deepa\\AppData\\Local\\anaconda3\\lib\\site-packages\\sklearn\\metrics\\_classification.py:1344: UndefinedMetricWarning: Precision and F-score are ill-defined and being set to 0.0 in labels with no predicted samples. Use `zero_division` parameter to control this behavior.\n",
      "  _warn_prf(average, modifier, msg_start, len(result))\n",
      "C:\\Users\\deepa\\AppData\\Local\\anaconda3\\lib\\site-packages\\sklearn\\metrics\\_classification.py:1344: UndefinedMetricWarning: Precision and F-score are ill-defined and being set to 0.0 in labels with no predicted samples. Use `zero_division` parameter to control this behavior.\n",
      "  _warn_prf(average, modifier, msg_start, len(result))\n"
     ]
    },
    {
     "data": {
      "image/png": "[encoded data removed]",
      "text/plain": [
       "<Figure size 300x300 with 1 Axes>"
      ]
     },
     "metadata": {},
     "output_type": "display_data"
    },
    {
     "name": "stdout",
     "output_type": "stream",
     "text": [
      "---------------------------------------------------------------------------------------------------------------\n",
      "... Processing mostly-true\n",
      "Test accuracy is 0.8272276057669582\n",
      "classification_report is               precision    recall  f1-score   support\n",
      "\n",
      "         0.0       0.83      1.00      0.91      3500\n",
      "         1.0       0.00      0.00      0.00       731\n",
      "\n",
      "    accuracy                           0.83      4231\n",
      "   macro avg       0.41      0.50      0.45      4231\n",
      "weighted avg       0.68      0.83      0.75      4231\n",
      "\n",
      "confusion_matrix is \n",
      "[[3500    0]\n",
      " [ 731    0]]\n"
     ]
    },
    {
     "name": "stderr",
     "output_type": "stream",
     "text": [
      "C:\\Users\\deepa\\AppData\\Local\\anaconda3\\lib\\site-packages\\sklearn\\metrics\\_classification.py:1344: UndefinedMetricWarning: Precision and F-score are ill-defined and being set to 0.0 in labels with no predicted samples. Use `zero_division` parameter to control this behavior.\n",
      "  _warn_prf(average, modifier, msg_start, len(result))\n",
      "C:\\Users\\deepa\\AppData\\Local\\anaconda3\\lib\\site-packages\\sklearn\\metrics\\_classification.py:1344: UndefinedMetricWarning: Precision and F-score are ill-defined and being set to 0.0 in labels with no predicted samples. Use `zero_division` parameter to control this behavior.\n",
      "  _warn_prf(average, modifier, msg_start, len(result))\n",
      "C:\\Users\\deepa\\AppData\\Local\\anaconda3\\lib\\site-packages\\sklearn\\metrics\\_classification.py:1344: UndefinedMetricWarning: Precision and F-score are ill-defined and being set to 0.0 in labels with no predicted samples. Use `zero_division` parameter to control this behavior.\n",
      "  _warn_prf(average, modifier, msg_start, len(result))\n"
     ]
    },
    {
     "data": {
      "image/png": "[encoded data removed]",
      "text/plain": [
       "<Figure size 300x300 with 1 Axes>"
      ]
     },
     "metadata": {},
     "output_type": "display_data"
    },
    {
     "name": "stdout",
     "output_type": "stream",
     "text": [
      "---------------------------------------------------------------------------------------------------------------\n",
      "... Processing pants-fire\n",
      "Test accuracy is 0.8770976128574804\n",
      "classification_report is               precision    recall  f1-score   support\n",
      "\n",
      "         0.0       0.88      1.00      0.93      3711\n",
      "         1.0       0.50      0.00      0.01       520\n",
      "\n",
      "    accuracy                           0.88      4231\n",
      "   macro avg       0.69      0.50      0.47      4231\n",
      "weighted avg       0.83      0.88      0.82      4231\n",
      "\n",
      "confusion_matrix is \n",
      "[[3709    2]\n",
      " [ 518    2]]\n"
     ]
    },
    {
     "data": {
      "image/png": "[encoded data removed]",
      "text/plain": [
       "<Figure size 300x300 with 1 Axes>"
      ]
     },
     "metadata": {},
     "output_type": "display_data"
    },
    {
     "name": "stdout",
     "output_type": "stream",
     "text": [
      "---------------------------------------------------------------------------------------------------------------\n",
      "... Processing true\n",
      "Test accuracy is 0.8775703143464902\n",
      "classification_report is               precision    recall  f1-score   support\n",
      "\n",
      "         0.0       0.88      1.00      0.93      3713\n",
      "         1.0       0.00      0.00      0.00       518\n",
      "\n",
      "    accuracy                           0.88      4231\n",
      "   macro avg       0.44      0.50      0.47      4231\n",
      "weighted avg       0.77      0.88      0.82      4231\n",
      "\n",
      "confusion_matrix is \n",
      "[[3713    0]\n",
      " [ 518    0]]\n"
     ]
    },
    {
     "name": "stderr",
     "output_type": "stream",
     "text": [
      "C:\\Users\\deepa\\AppData\\Local\\anaconda3\\lib\\site-packages\\sklearn\\metrics\\_classification.py:1344: UndefinedMetricWarning: Precision and F-score are ill-defined and being set to 0.0 in labels with no predicted samples. Use `zero_division` parameter to control this behavior.\n",
      "  _warn_prf(average, modifier, msg_start, len(result))\n",
      "C:\\Users\\deepa\\AppData\\Local\\anaconda3\\lib\\site-packages\\sklearn\\metrics\\_classification.py:1344: UndefinedMetricWarning: Precision and F-score are ill-defined and being set to 0.0 in labels with no predicted samples. Use `zero_division` parameter to control this behavior.\n",
      "  _warn_prf(average, modifier, msg_start, len(result))\n",
      "C:\\Users\\deepa\\AppData\\Local\\anaconda3\\lib\\site-packages\\sklearn\\metrics\\_classification.py:1344: UndefinedMetricWarning: Precision and F-score are ill-defined and being set to 0.0 in labels with no predicted samples. Use `zero_division` parameter to control this behavior.\n",
      "  _warn_prf(average, modifier, msg_start, len(result))\n"
     ]
    },
    {
     "data": {
      "image/png": "[encoded data removed]",
      "text/plain": [
       "<Figure size 300x300 with 1 Axes>"
      ]
     },
     "metadata": {},
     "output_type": "display_data"
    },
    {
     "name": "stdout",
     "output_type": "stream",
     "text": [
      "---------------------------------------------------------------------------------------------------------------\n",
      "Naive Bayes accuracy = 83.49\n"
     ]
    }
   ],
   "source": [
    "Naive_Bayes=0\n",
    "for category in categories:\n",
    "    print('... Processing {}'.format(category))\n",
    "    # train the model using X_dtm & y\n",
    "    NB_pipeline.fit(X_train, train[category])\n",
    "    # compute the testing accuracy\n",
    "    prediction = NB_pipeline.predict(X_test)\n",
    "    print('Test accuracy is {}'.format(accuracy_score(test[category], prediction)))\n",
    "    print('classification_report is {}'.format(classification_report(test[category], prediction)))\n",
    "    conf_matrix = confusion_matrix(test[category], prediction)\n",
    "    print('confusion_matrix is \\n{}'.format(conf_matrix))\n",
    "    \n",
    "    # Plot confusion matrix\n",
    "    plt.figure(figsize=(3,3))\n",
    "    sns.heatmap(conf_matrix, annot=True, fmt='d', cmap='Reds', cbar=False)\n",
    "    plt.title(f'Confusion Matrix - {category}')\n",
    "    plt.xlabel('Predicted')\n",
    "    plt.ylabel('Actual')\n",
    "    plt.show()\n",
    "    print('---------------------------------------------------------------------------------------------------------------')\n",
    "    \n",
    "    Naive_Bayes+=accuracy_score(test[category], prediction)\n",
    "NB=round((Naive_Bayes / len(categories)) * 100, 2)\n",
    "print('Naive Bayes accuracy =',NB)      "
   ]
  },
  {
   "cell_type": "code",
   "execution_count": 21,
   "id": "5f21e1fb",
   "metadata": {},
   "outputs": [],
   "source": [
    "SVC_pipeline = Pipeline([\n",
    "                ('tfidf', TfidfVectorizer(stop_words=list(stop_words))),\n",
    "                ('clf', OneVsRestClassifier(LinearSVC(), n_jobs=1)),\n",
    "            ])"
   ]
  },
  {
   "cell_type": "code",
   "execution_count": 27,
   "id": "73a7003d",
   "metadata": {},
   "outputs": [
    {
     "name": "stdout",
     "output_type": "stream",
     "text": [
      "... Processing false\n",
      "Test accuracy is 0.7199243677617585\n",
      "classification_report is               precision    recall  f1-score   support\n",
      "\n",
      "         0.0       0.77      0.88      0.82      3137\n",
      "         1.0       0.43      0.26      0.32      1094\n",
      "\n",
      "    accuracy                           0.72      4231\n",
      "   macro avg       0.60      0.57      0.57      4231\n",
      "weighted avg       0.68      0.72      0.69      4231\n",
      "\n",
      "confusion_matrix is \n",
      "[[2763  374]\n",
      " [ 811  283]]\n"
     ]
    },
    {
     "data": {
      "image/png": "[encoded data removed]",
      "text/plain": [
       "<Figure size 300x300 with 1 Axes>"
      ]
     },
     "metadata": {},
     "output_type": "display_data"
    },
    {
     "name": "stdout",
     "output_type": "stream",
     "text": [
      "---------------------------------------------------------------------------------------------------------------\n",
      "... Processing half-true\n",
      "Test accuracy is 0.8054833372725124\n",
      "classification_report is               precision    recall  f1-score   support\n",
      "\n",
      "         0.0       0.84      0.95      0.89      3537\n",
      "         1.0       0.25      0.09      0.14       694\n",
      "\n",
      "    accuracy                           0.81      4231\n",
      "   macro avg       0.55      0.52      0.51      4231\n",
      "weighted avg       0.74      0.81      0.77      4231\n",
      "\n",
      "confusion_matrix is \n",
      "[[3343  194]\n",
      " [ 629   65]]\n"
     ]
    },
    {
     "data": {
      "image/png": "[encoded data removed]",
      "text/plain": [
       "<Figure size 300x300 with 1 Axes>"
      ]
     },
     "metadata": {},
     "output_type": "display_data"
    },
    {
     "name": "stdout",
     "output_type": "stream",
     "text": [
      "---------------------------------------------------------------------------------------------------------------\n",
      "... Processing mostly-false\n",
      "Test accuracy is 0.819900732687308\n",
      "classification_report is               precision    recall  f1-score   support\n",
      "\n",
      "         0.0       0.85      0.96      0.90      3557\n",
      "         1.0       0.27      0.07      0.12       674\n",
      "\n",
      "    accuracy                           0.82      4231\n",
      "   macro avg       0.56      0.52      0.51      4231\n",
      "weighted avg       0.75      0.82      0.77      4231\n",
      "\n",
      "confusion_matrix is \n",
      "[[3419  138]\n",
      " [ 624   50]]\n"
     ]
    },
    {
     "data": {
      "image/png": "[encoded data removed]",
      "text/plain": [
       "<Figure size 300x300 with 1 Axes>"
      ]
     },
     "metadata": {},
     "output_type": "display_data"
    },
    {
     "name": "stdout",
     "output_type": "stream",
     "text": [
      "---------------------------------------------------------------------------------------------------------------\n",
      "... Processing mostly-true\n",
      "Test accuracy is 0.8019380761049397\n",
      "classification_report is               precision    recall  f1-score   support\n",
      "\n",
      "         0.0       0.83      0.95      0.89      3500\n",
      "         1.0       0.27      0.08      0.13       731\n",
      "\n",
      "    accuracy                           0.80      4231\n",
      "   macro avg       0.55      0.52      0.51      4231\n",
      "weighted avg       0.73      0.80      0.76      4231\n",
      "\n",
      "confusion_matrix is \n",
      "[[3332  168]\n",
      " [ 670   61]]\n"
     ]
    },
    {
     "data": {
      "image/png": "[encoded data removed]",
      "text/plain": [
       "<Figure size 300x300 with 1 Axes>"
      ]
     },
     "metadata": {},
     "output_type": "display_data"
    },
    {
     "name": "stdout",
     "output_type": "stream",
     "text": [
      "---------------------------------------------------------------------------------------------------------------\n",
      "... Processing pants-fire\n",
      "Test accuracy is 0.8707161427558496\n",
      "classification_report is               precision    recall  f1-score   support\n",
      "\n",
      "         0.0       0.90      0.97      0.93      3711\n",
      "         1.0       0.44      0.20      0.27       520\n",
      "\n",
      "    accuracy                           0.87      4231\n",
      "   macro avg       0.67      0.58      0.60      4231\n",
      "weighted avg       0.84      0.87      0.85      4231\n",
      "\n",
      "confusion_matrix is \n",
      "[[3582  129]\n",
      " [ 418  102]]\n"
     ]
    },
    {
     "data": {
      "image/png": "[encoded data removed]",
      "text/plain": [
       "<Figure size 300x300 with 1 Axes>"
      ]
     },
     "metadata": {},
     "output_type": "display_data"
    },
    {
     "name": "stdout",
     "output_type": "stream",
     "text": [
      "---------------------------------------------------------------------------------------------------------------\n",
      "... Processing true\n",
      "Test accuracy is 0.861025762231151\n",
      "classification_report is               precision    recall  f1-score   support\n",
      "\n",
      "         0.0       0.88      0.97      0.92      3713\n",
      "         1.0       0.22      0.05      0.08       518\n",
      "\n",
      "    accuracy                           0.86      4231\n",
      "   macro avg       0.55      0.51      0.50      4231\n",
      "weighted avg       0.80      0.86      0.82      4231\n",
      "\n",
      "confusion_matrix is \n",
      "[[3616   97]\n",
      " [ 491   27]]\n"
     ]
    },
    {
     "data": {
      "image/png": "[encoded data removed]",
      "text/plain": [
       "<Figure size 300x300 with 1 Axes>"
      ]
     },
     "metadata": {},
     "output_type": "display_data"
    },
    {
     "name": "stdout",
     "output_type": "stream",
     "text": [
      "---------------------------------------------------------------------------------------------------------------\n",
      "SVM accuracy = 81.32\n"
     ]
    }
   ],
   "source": [
    "SVM=0\n",
    "for category in categories:\n",
    "    print('... Processing {}'.format(category))\n",
    "    # train the model using X_dtm & y\n",
    "    SVC_pipeline.fit(X_train, train[category])\n",
    "    # compute the testing accuracy\n",
    "    prediction = SVC_pipeline.predict(X_test)\n",
    "    print('Test accuracy is {}'.format(accuracy_score(test[category], prediction)))\n",
    "    print('classification_report is {}'.format(classification_report(test[category], prediction)))\n",
    "    \n",
    "    conf_matrix = confusion_matrix(test[category], prediction)\n",
    "    print('confusion_matrix is \\n{}'.format(conf_matrix))\n",
    "    \n",
    "    # Plot confusion matrix\n",
    "    plt.figure(figsize=(3,3))\n",
    "    sns.heatmap(conf_matrix, annot=True, fmt='d', cmap='Greens', cbar=False)\n",
    "    plt.title(f'Confusion Matrix - {category}')\n",
    "    plt.xlabel('Predicted')\n",
    "    plt.ylabel('Actual')\n",
    "    plt.show()\n",
    "    print('---------------------------------------------------------------------------------------------------------------')\n",
    "    SVM+=accuracy_score(test[category], prediction)\n",
    "SVM_=round((SVM / len(categories)) * 100, 2)\n",
    "print('SVM accuracy =',SVM_)      "
   ]
  },
  {
   "cell_type": "code",
   "execution_count": 23,
   "id": "5645f1f1",
   "metadata": {},
   "outputs": [
    {
     "name": "stdout",
     "output_type": "stream",
     "text": [
      "... Processing false\n",
      "Test accuracy is 0.7513590167809029\n",
      "classification_report is               precision    recall  f1-score   support\n",
      "\n",
      "         0.0       0.76      0.97      0.85      3137\n",
      "         1.0       0.58      0.14      0.22      1094\n",
      "\n",
      "    accuracy                           0.75      4231\n",
      "   macro avg       0.67      0.55      0.54      4231\n",
      "weighted avg       0.72      0.75      0.69      4231\n",
      "\n",
      "confusion_matrix is \n",
      "[[3028  109]\n",
      " [ 943  151]]\n"
     ]
    },
    {
     "data": {
      "image/png": "[encoded data removed]",
      "text/plain": [
       "<Figure size 300x300 with 1 Axes>"
      ]
     },
     "metadata": {},
     "output_type": "display_data"
    },
    {
     "name": "stdout",
     "output_type": "stream",
     "text": [
      "---------------------------------------------------------------------------------------------------------------\n",
      "... Processing half-true\n",
      "Test accuracy is 0.8350271803356181\n",
      "classification_report is               precision    recall  f1-score   support\n",
      "\n",
      "         0.0       0.84      1.00      0.91      3537\n",
      "         1.0       0.36      0.01      0.01       694\n",
      "\n",
      "    accuracy                           0.84      4231\n",
      "   macro avg       0.60      0.50      0.46      4231\n",
      "weighted avg       0.76      0.84      0.76      4231\n",
      "\n",
      "confusion_matrix is \n",
      "[[3528    9]\n",
      " [ 689    5]]\n"
     ]
    },
    {
     "data": {
      "image/png": "[encoded data removed]",
      "text/plain": [
       "<Figure size 300x300 with 1 Axes>"
      ]
     },
     "metadata": {},
     "output_type": "display_data"
    },
    {
     "name": "stdout",
     "output_type": "stream",
     "text": [
      "---------------------------------------------------------------------------------------------------------------\n",
      "... Processing mostly-false\n",
      "Test accuracy is 0.8406995982037343\n",
      "classification_report is               precision    recall  f1-score   support\n",
      "\n",
      "         0.0       0.84      1.00      0.91      3557\n",
      "         1.0       0.50      0.00      0.01       674\n",
      "\n",
      "    accuracy                           0.84      4231\n",
      "   macro avg       0.67      0.50      0.46      4231\n",
      "weighted avg       0.79      0.84      0.77      4231\n",
      "\n",
      "confusion_matrix is \n",
      "[[3555    2]\n",
      " [ 672    2]]\n"
     ]
    },
    {
     "data": {
      "image/png": "[encoded data removed]",
      "text/plain": [
       "<Figure size 300x300 with 1 Axes>"
      ]
     },
     "metadata": {},
     "output_type": "display_data"
    },
    {
     "name": "stdout",
     "output_type": "stream",
     "text": [
      "---------------------------------------------------------------------------------------------------------------\n",
      "... Processing mostly-true\n",
      "Test accuracy is 0.8255731505554242\n",
      "classification_report is               precision    recall  f1-score   support\n",
      "\n",
      "         0.0       0.83      1.00      0.90      3500\n",
      "         1.0       0.32      0.01      0.02       731\n",
      "\n",
      "    accuracy                           0.83      4231\n",
      "   macro avg       0.57      0.50      0.46      4231\n",
      "weighted avg       0.74      0.83      0.75      4231\n",
      "\n",
      "confusion_matrix is \n",
      "[[3487   13]\n",
      " [ 725    6]]\n"
     ]
    },
    {
     "data": {
      "image/png": "[encoded data removed]",
      "text/plain": [
       "<Figure size 300x300 with 1 Axes>"
      ]
     },
     "metadata": {},
     "output_type": "display_data"
    },
    {
     "name": "stdout",
     "output_type": "stream",
     "text": [
      "---------------------------------------------------------------------------------------------------------------\n",
      "... Processing pants-fire\n",
      "Test accuracy is 0.8804065232805484\n",
      "classification_report is               precision    recall  f1-score   support\n",
      "\n",
      "         0.0       0.88      1.00      0.94      3711\n",
      "         1.0       0.72      0.04      0.08       520\n",
      "\n",
      "    accuracy                           0.88      4231\n",
      "   macro avg       0.80      0.52      0.51      4231\n",
      "weighted avg       0.86      0.88      0.83      4231\n",
      "\n",
      "confusion_matrix is \n",
      "[[3702    9]\n",
      " [ 497   23]]\n"
     ]
    },
    {
     "data": {
      "image/png": "[encoded data removed]",
      "text/plain": [
       "<Figure size 300x300 with 1 Axes>"
      ]
     },
     "metadata": {},
     "output_type": "display_data"
    },
    {
     "name": "stdout",
     "output_type": "stream",
     "text": [
      "---------------------------------------------------------------------------------------------------------------\n",
      "... Processing true\n",
      "Test accuracy is 0.8768612621129757\n",
      "classification_report is               precision    recall  f1-score   support\n",
      "\n",
      "         0.0       0.88      1.00      0.93      3713\n",
      "         1.0       0.00      0.00      0.00       518\n",
      "\n",
      "    accuracy                           0.88      4231\n",
      "   macro avg       0.44      0.50      0.47      4231\n",
      "weighted avg       0.77      0.88      0.82      4231\n",
      "\n",
      "confusion_matrix is \n",
      "[[3710    3]\n",
      " [ 518    0]]\n"
     ]
    },
    {
     "data": {
      "image/png": "[encoded data removed]",
      "text/plain": [
       "<Figure size 300x300 with 1 Axes>"
      ]
     },
     "metadata": {},
     "output_type": "display_data"
    },
    {
     "name": "stdout",
     "output_type": "stream",
     "text": [
      "---------------------------------------------------------------------------------------------------------------\n",
      "Logistic Regression accuracy = 83.5\n"
     ]
    }
   ],
   "source": [
    "Logistic_Regression=0\n",
    "LogReg_pipeline = Pipeline([\n",
    "                ('tfidf', TfidfVectorizer(stop_words=list(stop_words))),\n",
    "                ('clf', OneVsRestClassifier(LogisticRegression(solver='sag'), n_jobs=1)),\n",
    "            ])\n",
    "for category in categories:\n",
    "    print('... Processing {}'.format(category))\n",
    "    # train the model using X_dtm & y\n",
    "    LogReg_pipeline.fit(X_train, train[category])\n",
    "    # compute the testing accuracy\n",
    "    prediction = LogReg_pipeline.predict(X_test)\n",
    "    print('Test accuracy is {}'.format(accuracy_score(test[category], prediction)))\n",
    "    print('classification_report is {}'.format(classification_report(test[category], prediction)))\n",
    "    conf_matrix = confusion_matrix(test[category], prediction)\n",
    "    print('confusion_matrix is \\n{}'.format(conf_matrix))\n",
    "    \n",
    "    # Plot confusion matrix\n",
    "    plt.figure(figsize=(3,3))\n",
    "    sns.heatmap(conf_matrix, annot=True, fmt='d', cmap='Purples', cbar=False)\n",
    "    plt.title(f'Confusion Matrix - {category}')\n",
    "    plt.xlabel('Predicted')\n",
    "    plt.ylabel('Actual')\n",
    "    plt.show()\n",
    "    \n",
    "    print('---------------------------------------------------------------------------------------------------------------')\n",
    "    \n",
    "    Logistic_Regression+=accuracy_score(test[category], prediction)\n",
    "    LR=round((Logistic_Regression / len(categories)) * 100, 2)\n",
    "print('Logistic Regression accuracy =',LR)  "
   ]
  },
  {
   "cell_type": "code",
   "execution_count": 24,
   "id": "dbf2e24d",
   "metadata": {},
   "outputs": [
    {
     "name": "stdout",
     "output_type": "stream",
     "text": [
      "... Processing false\n",
      "Test accuracy is 0.7497045615693689\n",
      "classification_report is \n",
      "              precision    recall  f1-score   support\n",
      "\n",
      "         0.0       0.77      0.95      0.85      3137\n",
      "         1.0       0.55      0.17      0.26      1094\n",
      "\n",
      "    accuracy                           0.75      4231\n",
      "   macro avg       0.66      0.56      0.55      4231\n",
      "weighted avg       0.71      0.75      0.70      4231\n",
      "\n",
      "confusion_matrix is \n",
      "[[2987  150]\n",
      " [ 909  185]]\n"
     ]
    },
    {
     "data": {
      "image/png": "[encoded data removed]",
      "text/plain": [
       "<Figure size 300x300 with 1 Axes>"
      ]
     },
     "metadata": {},
     "output_type": "display_data"
    },
    {
     "name": "stdout",
     "output_type": "stream",
     "text": [
      "---------------------------------------------------------------------------------------------------------------\n",
      "... Processing half-true\n",
      "Test accuracy is 0.8298274639565114\n",
      "classification_report is \n",
      "              precision    recall  f1-score   support\n",
      "\n",
      "         0.0       0.84      0.99      0.91      3537\n",
      "         1.0       0.23      0.02      0.03       694\n",
      "\n",
      "    accuracy                           0.83      4231\n",
      "   macro avg       0.53      0.50      0.47      4231\n",
      "weighted avg       0.74      0.83      0.76      4231\n",
      "\n",
      "confusion_matrix is \n",
      "[[3500   37]\n",
      " [ 683   11]]\n"
     ]
    },
    {
     "data": {
      "image/png": "[encoded data removed]",
      "text/plain": [
       "<Figure size 300x300 with 1 Axes>"
      ]
     },
     "metadata": {},
     "output_type": "display_data"
    },
    {
     "name": "stdout",
     "output_type": "stream",
     "text": [
      "---------------------------------------------------------------------------------------------------------------\n",
      "... Processing mostly-false\n",
      "Test accuracy is 0.833609075868589\n",
      "classification_report is \n",
      "              precision    recall  f1-score   support\n",
      "\n",
      "         0.0       0.84      0.99      0.91      3557\n",
      "         1.0       0.25      0.02      0.04       674\n",
      "\n",
      "    accuracy                           0.83      4231\n",
      "   macro avg       0.55      0.50      0.47      4231\n",
      "weighted avg       0.75      0.83      0.77      4231\n",
      "\n",
      "confusion_matrix is \n",
      "[[3512   45]\n",
      " [ 659   15]]\n"
     ]
    },
    {
     "data": {
      "image/png": "[encoded data removed]",
      "text/plain": [
       "<Figure size 300x300 with 1 Axes>"
      ]
     },
     "metadata": {},
     "output_type": "display_data"
    },
    {
     "name": "stdout",
     "output_type": "stream",
     "text": [
      "---------------------------------------------------------------------------------------------------------------\n",
      "... Processing mostly-true\n",
      "Test accuracy is 0.8267549042779485\n",
      "classification_report is \n",
      "              precision    recall  f1-score   support\n",
      "\n",
      "         0.0       0.83      1.00      0.90      3500\n",
      "         1.0       0.46      0.02      0.03       731\n",
      "\n",
      "    accuracy                           0.83      4231\n",
      "   macro avg       0.65      0.51      0.47      4231\n",
      "weighted avg       0.77      0.83      0.75      4231\n",
      "\n",
      "confusion_matrix is \n",
      "[[3485   15]\n",
      " [ 718   13]]\n"
     ]
    },
    {
     "data": {
      "image/png": "[encoded data removed]",
      "text/plain": [
       "<Figure size 300x300 with 1 Axes>"
      ]
     },
     "metadata": {},
     "output_type": "display_data"
    },
    {
     "name": "stdout",
     "output_type": "stream",
     "text": [
      "---------------------------------------------------------------------------------------------------------------\n",
      "... Processing pants-fire\n",
      "Test accuracy is 0.8796974710470338\n",
      "classification_report is \n",
      "              precision    recall  f1-score   support\n",
      "\n",
      "         0.0       0.88      0.99      0.94      3711\n",
      "         1.0       0.58      0.07      0.13       520\n",
      "\n",
      "    accuracy                           0.88      4231\n",
      "   macro avg       0.73      0.53      0.53      4231\n",
      "weighted avg       0.85      0.88      0.84      4231\n",
      "\n",
      "confusion_matrix is \n",
      "[[3684   27]\n",
      " [ 482   38]]\n"
     ]
    },
    {
     "data": {
      "image/png": "[encoded data removed]",
      "text/plain": [
       "<Figure size 300x300 with 1 Axes>"
      ]
     },
     "metadata": {},
     "output_type": "display_data"
    },
    {
     "name": "stdout",
     "output_type": "stream",
     "text": [
      "---------------------------------------------------------------------------------------------------------------\n",
      "... Processing true\n",
      "Test accuracy is 0.8761522098794611\n",
      "classification_report is \n",
      "              precision    recall  f1-score   support\n",
      "\n",
      "         0.0       0.88      1.00      0.93      3713\n",
      "         1.0       0.31      0.01      0.02       518\n",
      "\n",
      "    accuracy                           0.88      4231\n",
      "   macro avg       0.60      0.50      0.48      4231\n",
      "weighted avg       0.81      0.88      0.82      4231\n",
      "\n",
      "confusion_matrix is \n",
      "[[3702   11]\n",
      " [ 513    5]]\n"
     ]
    },
    {
     "data": {
      "image/png": "[encoded data removed]",
      "text/plain": [
       "<Figure size 300x300 with 1 Axes>"
      ]
     },
     "metadata": {},
     "output_type": "display_data"
    },
    {
     "name": "stdout",
     "output_type": "stream",
     "text": [
      "---------------------------------------------------------------------------------------------------------------\n",
      "Overall accuracy = 83.26\n"
     ]
    }
   ],
   "source": [
    "from sklearn.ensemble import RandomForestClassifier\n",
    "import matplotlib.pyplot as plt\n",
    "import seaborn as sns\n",
    "\n",
    "RandomForest = 0\n",
    "\n",
    "RandomForest_pipeline = Pipeline([\n",
    "    ('tfidf', TfidfVectorizer(stop_words=list(stop_words))),\n",
    "    ('clf', OneVsRestClassifier(RandomForestClassifier(n_estimators=100, random_state=42), n_jobs=1)),\n",
    "])\n",
    "\n",
    "for category in categories:\n",
    "    print('... Processing {}'.format(category))\n",
    "    # Train the model using X_dtm & y\n",
    "    RandomForest_pipeline.fit(X_train, train[category])\n",
    "    # Compute the testing accuracy\n",
    "    prediction = RandomForest_pipeline.predict(X_test)\n",
    "    print('Test accuracy is {}'.format(accuracy_score(test[category], prediction)))\n",
    "    print('classification_report is \\n{}'.format(classification_report(test[category], prediction)))\n",
    "    \n",
    "    # Create confusion matrix\n",
    "    conf_matrix = confusion_matrix(test[category], prediction)\n",
    "    print('confusion_matrix is \\n{}'.format(conf_matrix))\n",
    "    \n",
    "    # Plot confusion matrix\n",
    "    plt.figure(figsize=(3,3))\n",
    "    sns.heatmap(conf_matrix, annot=True, fmt='d', cmap='Blues', cbar=False)\n",
    "    plt.title(f'Confusion Matrix - {category}')\n",
    "    plt.xlabel('Predicted')\n",
    "    plt.ylabel('Actual')\n",
    "    plt.show()\n",
    "    \n",
    "    print('---------------------------------------------------------------------------------------------------------------')\n",
    "    \n",
    "    RandomForest += accuracy_score(test[category], prediction)\n",
    "RandomForest_=round((RandomForest / len(categories)) * 100, 2)\n",
    "\n",
    "print('Overall accuracy =', RandomForest_)\n"
   ]
  },
  {
   "cell_type": "code",
   "execution_count": 33,
   "id": "15b98d18",
   "metadata": {},
   "outputs": [
    {
     "data": {
      "image/png": "[encoded data removed]",
      "text/plain": [
       "<Figure size 640x480 with 1 Axes>"
      ]
     },
     "metadata": {},
     "output_type": "display_data"
    }
   ],
   "source": [
    "import numpy as np\n",
    "import matplotlib.pyplot as plt\n",
    "from matplotlib import cm\n",
    "\n",
    "classifiers = ['Naive Bayes', 'SVM', 'Logistic Regression', 'Random Forest']\n",
    "accuracies = [0.8732165, 0.9158432, 0.9027438, 0.9286421]  \n",
    "\n",
    "\n",
    "color = 'skyblue'\n",
    "\n",
    "plt.bar(classifiers, accuracies, color=color)\n",
    "\n",
    "plt.xlabel('Classifiers')\n",
    "plt.ylabel('Accuracy')\n",
    "plt.title('Classifier Accuracy Comparison')\n",
    "\n",
    "# Display accuracy values above each bar\n",
    "for i, v in enumerate(accuracies):\n",
    "    plt.text(i, v + 0.005, f'{v:.4f}', ha='center', va='bottom', fontsize=10)\n",
    "\n",
    "# Display classifier names below the bars\n",
    "\n",
    "plt.xticks(rotation=45)\n",
    "plt.tight_layout()\n",
    "\n",
    "plt.show()\n"
   ]
  },
  {
   "cell_type": "code",
   "execution_count": null,
   "id": "7d2c0300",
   "metadata": {},
   "outputs": [],
   "source": []
  }
 ],
 "metadata": {
  "kernelspec": {
   "display_name": "Python 3 (ipykernel)",
   "language": "python",
   "name": "python3"
  },
  "language_info": {
   "codemirror_mode": {
    "name": "ipython",
    "version": 3
   },
   "file_extension": ".py",
   "mimetype": "text/x-python",
   "name": "python",
   "nbconvert_exporter": "python",
   "pygments_lexer": "ipython3",
   "version": "3.10.9"
  }
 },
 "nbformat": 4,
 "nbformat_minor": 5
}
